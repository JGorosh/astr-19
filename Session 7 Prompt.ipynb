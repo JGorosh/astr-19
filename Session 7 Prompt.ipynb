{
 "cells": [
  {
   "cell_type": "code",
   "execution_count": null,
   "id": "eac6f248-1c22-43d5-aad0-069ccb251a5b",
   "metadata": {},
   "outputs": [],
   "source": [
    "import numpy as np\n",
    "import matplotlib.pyplot as plt"
   ]
  },
  {
   "cell_type": "code",
   "execution_count": null,
   "id": "473a9dbb-2b9c-4a7d-899b-299fd34155ed",
   "metadata": {},
   "outputs": [],
   "source": [
    "x = np.linspace(0, 1, 100)"
   ]
  },
  {
   "cell_type": "code",
   "execution_count": null,
   "id": "8fafa85f-04fd-4c8e-a031-656b6c34d99e",
   "metadata": {},
   "outputs": [],
   "source": [
    "def exp_function(x):\n",
    "    return np.exe(x)"
   ]
  },
  {
   "cell_type": "code",
   "execution_count": null,
   "id": "2da2e513-88f8-48b4-879e-fccca8226593",
   "metadata": {},
   "outputs": [],
   "source": [
    "y = exp_function(x)"
   ]
  },
  {
   "cell_type": "code",
   "execution_count": null,
   "id": "c99e2c4e-b11e-456e-9a55-edbe9a7e22ec",
   "metadata": {},
   "outputs": [],
   "source": [
    "plt.plot(x, y)\n",
    "plt.xlabel(\"Time [milliseconds]\")\n",
    "plt.ylabel(\"Awesomeness\")\n",
    "plt.title(\"Exponential Growth of Awesomeness Over Time\")\n",
    "plt.grid(True)\n",
    "plt.show()"
   ]
  }
 ],
 "metadata": {
  "kernelspec": {
   "display_name": "ASTR 19",
   "language": "python",
   "name": "astr19"
  },
  "language_info": {
   "codemirror_mode": {
    "name": "ipython",
    "version": 3
   },
   "file_extension": ".py",
   "mimetype": "text/x-python",
   "name": "python",
   "nbconvert_exporter": "python",
   "pygments_lexer": "ipython3",
   "version": "3.10.12"
  }
 },
 "nbformat": 4,
 "nbformat_minor": 5
}
