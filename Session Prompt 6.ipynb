{
 "cells": [
  {
   "cell_type": "code",
   "execution_count": null,
   "id": "eac6f248-1c22-43d5-aad0-069ccb251a5b",
   "metadata": {},
   "outputs": [],
   "source": [
    "We will define two functions. One for calculating sinx and another for calculating cosx."
   ]
  },
  {
   "cell_type": "code",
   "execution_count": null,
   "id": "473a9dbb-2b9c-4a7d-899b-299fd34155ed",
   "metadata": {},
   "outputs": [],
   "source": [
    "import numpy as np\n",
    "\n",
    "def sine_function(x):\n",
    "    return np.sin(x)"
   ]
  },
  {
   "cell_type": "code",
   "execution_count": null,
   "id": "8fafa85f-04fd-4c8e-a031-656b6c34d99e",
   "metadata": {},
   "outputs": [],
   "source": [
    "This cell defines the sine_function(x)."
   ]
  },
  {
   "cell_type": "code",
   "execution_count": null,
   "id": "2da2e513-88f8-48b4-879e-fccca8226593",
   "metadata": {},
   "outputs": [],
   "source": [
    "def cosine_function(x):\n",
    "    return np.cos(x)"
   ]
  },
  {
   "cell_type": "code",
   "execution_count": null,
   "id": "c99e2c4e-b11e-456e-9a55-edbe9a7e22ec",
   "metadata": {},
   "outputs": [],
   "source": [
    "This cell definesn the cosine_function(x)."
   ]
  },
  {
   "cell_type": "code",
   "execution_count": null,
   "id": "99141a61-ea30-45c4-9fab-d13051dc3c30",
   "metadata": {},
   "outputs": [],
   "source": [
    "x_values = np.linspace(0, 2, 1000)  \n",
    "sin_values = sine_function(x_values)  \n",
    "cos_values = cosine_function(x_values)"
   ]
  },
  {
   "cell_type": "code",
   "execution_count": null,
   "id": "d4e53782-3370-4f01-9c27-faf77e21f789",
   "metadata": {},
   "outputs": [],
   "source": [
    "We created 1000 evenly spaced values of x between 0 and 2 with the linspace function. Then calculated the sin(x) and cos(x) for values of `x`."
   ]
  },
  {
   "cell_type": "code",
   "execution_count": null,
   "id": "938fd084-826d-44d6-9b47-dc830d104eea",
   "metadata": {},
   "outputs": [],
   "source": [
    "print(f\"{'x':>10} {'sin(x)':>10} {'cos(x)':>10}\")\n",
    "print(\"-\" * 30)\n",
    "\n",
    "for x, sin_x, cos_x in zip(x_values[:10], sin_values[:10], cos_values[:10]):\n",
    "    print(f\"{x:>10.6f} {sin_x:>10.6f} {cos_x:>10.6f}\")"
   ]
  },
  {
   "cell_type": "code",
   "execution_count": null,
   "id": "25fcf604-e702-4fa8-8d67-0abea02dc37b",
   "metadata": {},
   "outputs": [],
   "source": [
    "Prints the first 10 values of x, sinx, and cosx"
   ]
  }
 ],
 "metadata": {
  "kernelspec": {
   "display_name": "ASTR 19",
   "language": "python",
   "name": "astr19"
  },
  "language_info": {
   "codemirror_mode": {
    "name": "ipython",
    "version": 3
   },
   "file_extension": ".py",
   "mimetype": "text/x-python",
   "name": "python",
   "nbconvert_exporter": "python",
   "pygments_lexer": "ipython3",
   "version": "3.10.12"
  }
 },
 "nbformat": 4,
 "nbformat_minor": 5
}
