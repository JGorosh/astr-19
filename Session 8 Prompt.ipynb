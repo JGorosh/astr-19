{
 "cells": [
  {
   "cell_type": "code",
   "execution_count": null,
   "id": "eac6f248-1c22-43d5-aad0-069ccb251a5b",
   "metadata": {},
   "outputs": [],
   "source": [
    "import numpy as np\n",
    "import matplotlib.pyplot as plt"
   ]
  },
  {
   "cell_type": "code",
   "execution_count": null,
   "id": "473a9dbb-2b9c-4a7d-899b-299fd34155ed",
   "metadata": {},
   "outputs": [],
   "source": [
    "x = np.linspace(0, 1, 100)"
   ]
  },
  {
   "cell_type": "code",
   "execution_count": null,
   "id": "8fafa85f-04fd-4c8e-a031-656b6c34d99e",
   "metadata": {},
   "outputs": [],
   "source": [
    "def sin_function(x):\n",
    "    return np.sin(x)\n",
    "\n",
    "def cos_function(x):\n",
    "    return np.cos(x)"
   ]
  },
  {
   "cell_type": "code",
   "execution_count": null,
   "id": "2da2e513-88f8-48b4-879e-fccca8226593",
   "metadata": {},
   "outputs": [],
   "source": [
    "y_sin = sin_function(x)\n",
    "y_cos = cos_function(x)\n",
    "\n",
    "fig, (ax1, ax2) = plt.subplots(1, 2, figsize=(10, 4))\n",
    "\n",
    "ax1.plot(x, y_sin, color=\"blue\")\n",
    "ax1.set_title(\"sin(x)\")\n",
    "ax1.set_xlabel(\"x\")\n",
    "ax1.set_ylabel(\"sin(x)\")\n",
    "\n",
    "ax2.plot(x, y_cos, color=\"green\")\n",
    "ax2.set_title(\"cos(x)\")\n",
    "ax2.set_xlabel(\"x\")\n",
    "ax2.set_ylabel(\"cos(x)\")\n",
    "\n",
    "plt.tight_layout()\n",
    "plt.show()\n"
   ]
  }
 ],
 "metadata": {
  "kernelspec": {
   "display_name": "ASTR 19",
   "language": "python",
   "name": "astr19"
  },
  "language_info": {
   "codemirror_mode": {
    "name": "ipython",
    "version": 3
   },
   "file_extension": ".py",
   "mimetype": "text/x-python",
   "name": "python",
   "nbconvert_exporter": "python",
   "pygments_lexer": "ipython3",
   "version": "3.10.12"
  }
 },
 "nbformat": 4,
 "nbformat_minor": 5
}
